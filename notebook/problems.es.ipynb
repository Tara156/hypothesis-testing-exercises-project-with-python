{
 "cells": [
  {
   "cell_type": "markdown",
   "id": "d9d036c6",
   "metadata": {},
   "source": [
    "# Problemas de prueba de hipótesis"
   ]
  },
  {
   "cell_type": "markdown",
   "id": "d157c4db",
   "metadata": {},
   "source": [
    "## Ejercicio 1\n",
    "\n",
    "Usted es un nutricionista que investiga dos tipos diferentes de dietas para ver si existe una diferencia significativa en la pérdida de peso después de un mes. Eliges dos grupos aleatorios de personas; un grupo sigue la primera dieta y el otro sigue la segunda. Al final del mes, se registra la pérdida de peso (en kg) de cada persona:\n",
    "\n",
    "| Diet 1 | Diet 2 |\n",
    "|:-------|:-------|\n",
    "| 2.0 | 3.0 |\n",
    "| 2.5 | 3.2 |\n",
    "| 3.0 | 3.1 |\n",
    "| 2.8 | 2.9 |\n",
    "| 2.3 | 2.8 |\n",
    "| 2.7 | 3.0 |\n",
    "| 2.5 | 3.2 |\n",
    "\n",
    "Con estos datos se busca responder a la siguiente pregunta: ¿Existe una diferencia significativa en la pérdida de peso promedio entre las personas que siguieron la primera dieta y las que siguieron la segunda dieta?\n",
    "\n",
    "Para sacar conclusiones, siga los siguientes puntos:\n",
    "\n",
    "-Enunciar la hipótesis: hipótesis nula y alternativa.\n",
    "-Realizar la prueba para comprobar la hipótesis. Puede utilizar la prueba t de Student.\n",
    "-Analizar las conclusiones."
   ]
  },
  {
   "cell_type": "code",
   "execution_count": 1,
   "id": "8e0f3cf0",
   "metadata": {},
   "outputs": [
    {
     "name": "stdout",
     "output_type": "stream",
     "text": [
      "   Dieta 1  Dieta 2\n",
      "0      2.0      3.0\n",
      "1      2.5      3.2\n",
      "2      3.0      3.1\n",
      "3      2.8      2.9\n",
      "4      2.3      2.8\n",
      "5      2.7      3.0\n",
      "6      2.5      3.2\n"
     ]
    }
   ],
   "source": [
    "import pandas as pd\n",
    "\n",
    "# Listas de pérdida de peso\n",
    "dieta1 = [2.0, 2.5, 3.0, 2.8, 2.3, 2.7, 2.5]\n",
    "dieta2 = [3.0, 3.2, 3.1, 2.9, 2.8, 3.0, 3.2]\n",
    "\n",
    "# Crear un DataFrame\n",
    "df = pd.DataFrame({\n",
    "    'Dieta 1': dieta1,\n",
    "    'Dieta 2': dieta2\n",
    "})\n",
    "\n",
    "# Mostrar el DataFrame\n",
    "print(df)\n"
   ]
  },
  {
   "cell_type": "markdown",
   "id": "3f4bdde3",
   "metadata": {},
   "source": [
    "### H0 = No hay gran diferencia en la pérdida de peso promedio entre los dos grupos\n",
    "\n",
    "### H1 = Hay una gran diferencia en la pérdida de peso promedio entre los dos grupos"
   ]
  },
  {
   "cell_type": "markdown",
   "id": "eccf6210",
   "metadata": {},
   "source": [
    "### Realizar la prueba para comprobar la hipótesis. Puede utilizar la prueba t de Student."
   ]
  },
  {
   "cell_type": "code",
   "execution_count": 2,
   "id": "3e4f9327",
   "metadata": {},
   "outputs": [
    {
     "name": "stdout",
     "output_type": "stream",
     "text": [
      "Valor t, desviaciones estandar {np.float64(-3.5383407969933938)} y p valor es  {np.float64(0.004083270191713912)}\n"
     ]
    }
   ],
   "source": [
    "from scipy.stats import ttest_ind\n",
    "# Prueba t\n",
    "t_stat, p_value = ttest_ind(dieta1, dieta2)\n",
    "\n",
    "print(\"Valor t, desviaciones estandar\",{t_stat}, \"y p valor es \", {p_value})\n",
    "# t_stat, p_value"
   ]
  },
  {
   "cell_type": "markdown",
   "id": "6f5a1d1e",
   "metadata": {},
   "source": [
    "### Analizar las conclusiones."
   ]
  },
  {
   "cell_type": "code",
   "execution_count": null,
   "id": "0fe6247b",
   "metadata": {},
   "outputs": [
    {
     "name": "stdout",
     "output_type": "stream",
     "text": [
      "Promedio Dieta 1: 2.542857142857143\n",
      "Promedio Dieta 2: 3.0285714285714285\n"
     ]
    }
   ],
   "source": [
    "print(\"Promedio Dieta 1:\", df['Dieta 1'].mean())\n",
    "print(\"Promedio Dieta 2:\", df['Dieta 2'].mean())\n",
    "\n",
    "# Promedio Dieta 1: 2.542857142857143\n",
    "# Promedio Dieta 2: 3.0285714285714285"
   ]
  },
  {
   "cell_type": "markdown",
   "id": "759dbb72",
   "metadata": {},
   "source": [
    "Si p < α → Rechazo H₀ → Hay evidencia a favor de H₁ (la alternativa).\n",
    "\n",
    "Si p > α → NO rechazo H₀ → No hay evidencia suficiente para aceptar H₁.\n",
    "\n",
    "Para un nivel de significancia a = 0.05\n",
    "\n",
    "0.00408 < 0.05\n",
    "\n",
    "Se rechaza la hipotesis nula y se deja la alternativa que nos dice que si hay una diferencia significativa en la pérdida de peso promedio entre las personas que siguieron la primera dieta y las que siguieron la segunda dieta, la dieta dos genera mayor pérdida de peso en promedio a la dieta 1."
   ]
  },
  {
   "cell_type": "code",
   "execution_count": 5,
   "id": "3c2b3aba",
   "metadata": {},
   "outputs": [
    {
     "name": "stderr",
     "output_type": "stream",
     "text": [
      "/tmp/ipykernel_3381/107071222.py:20: FutureWarning: \n",
      "\n",
      "Passing `palette` without assigning `hue` is deprecated and will be removed in v0.14.0. Assign the `x` variable to `hue` and set `legend=False` for the same effect.\n",
      "\n",
      "  sns.boxplot(x='Dieta', y='Pérdida de peso (kg)', data=df, palette=\"pastel\")\n"
     ]
    },
    {
     "data": {
      "image/png": "[encoded data removed]",
      "text/plain": [
       "<Figure size 800x500 with 1 Axes>"
      ]
     },
     "metadata": {},
     "output_type": "display_data"
    },
    {
     "name": "stderr",
     "output_type": "stream",
     "text": [
      "/tmp/ipykernel_3381/107071222.py:26: FutureWarning: \n",
      "\n",
      "The `ci` parameter is deprecated. Use `errorbar='sd'` for the same effect.\n",
      "\n",
      "  sns.barplot(x='Dieta', y='Pérdida de peso (kg)', data=df, ci=\"sd\", palette=\"Set2\")\n",
      "/tmp/ipykernel_3381/107071222.py:26: FutureWarning: \n",
      "\n",
      "Passing `palette` without assigning `hue` is deprecated and will be removed in v0.14.0. Assign the `x` variable to `hue` and set `legend=False` for the same effect.\n",
      "\n",
      "  sns.barplot(x='Dieta', y='Pérdida de peso (kg)', data=df, ci=\"sd\", palette=\"Set2\")\n"
     ]
    },
    {
     "data": {
      "image/png": "[encoded data removed]",
      "text/plain": [
       "<Figure size 800x500 with 1 Axes>"
      ]
     },
     "metadata": {},
     "output_type": "display_data"
    }
   ],
   "source": [
    "import pandas as pd\n",
    "import matplotlib.pyplot as plt\n",
    "import seaborn as sns\n",
    "\n",
    "# Datos\n",
    "dieta1 = [2.0, 2.5, 3.0, 2.8, 2.3, 2.7, 2.5]\n",
    "dieta2 = [3.0, 3.2, 3.1, 2.9, 2.8, 3.0, 3.2]\n",
    "\n",
    "# Crear DataFrame en formato largo\n",
    "df = pd.DataFrame({\n",
    "    'Pérdida de peso (kg)': dieta1 + dieta2,\n",
    "    'Dieta': ['Dieta 1'] * len(dieta1) + ['Dieta 2'] * len(dieta2)\n",
    "})\n",
    "\n",
    "# Configuración de estilo\n",
    "sns.set(style=\"whitegrid\")\n",
    "\n",
    "# Boxplot\n",
    "plt.figure(figsize=(8, 5))\n",
    "sns.boxplot(x='Dieta', y='Pérdida de peso (kg)', data=df, palette=\"pastel\")\n",
    "plt.title('Comparación de pérdida de peso entre dietas')\n",
    "plt.show()\n",
    "\n",
    "# Gráfico de barras con promedios\n",
    "plt.figure(figsize=(8, 5))\n",
    "sns.barplot(x='Dieta', y='Pérdida de peso (kg)', data=df, ci=\"sd\", palette=\"Set2\")\n",
    "plt.title('Promedio de pérdida de peso por dieta')\n",
    "plt.show()\n"
   ]
  },
  {
   "cell_type": "markdown",
   "id": "f432e18e",
   "metadata": {},
   "source": [
    "## ANOVA\n",
    "\n",
    "**ANOVA** (*Analysis of Variance - Análisis de variación*) Es una técnica estadística utilizada para comparar las medidas de dos o más grupos. La idea detrás de ANOVA es descomponer la variabilidad total de los datos en dos componentes: variabilidad entre grupos y variabilidad dentro de los grupos:\n",
    "\n",
    "- **Variabilidad entre grupos**: Esta variabilidad se refiere a las diferencias entre las medias del grupo. Si esta variabilidad es considerablemente mayor que la variabilidad dentro del grupo, podría ser una indicación de que al menos una de las medias del grupo es diferente.\n",
    "- **Variabilidad dentro del grupo**: Esta variabilidad se refiere a la dispersión de los datos dentro de cada grupo. Si todos los grupos tienen una variabilidad similar, entonces cualquier diferencia notable en las medias de los grupos podría considerarse significativa.\n",
    "\n",
    "Las hipótesis en ANOVA suelen incluir:\n",
    "\n",
    "- **Hipótesis nula** ($H₀$): Las medias de todos los grupos son iguales.\n",
    "- **Hipótesis alternativa** ($H₁$): Al menos una de las medias del grupo es diferente.\n",
    "\n",
    "Si el resultado de la prueba ANOVA es significativo (por ejemplo, un valor p inferior a un umbral como 0,05), esto sugiere que al menos la media de un grupo es diferente."
   ]
  },
  {
   "cell_type": "markdown",
   "id": "fc5f3721",
   "metadata": {},
   "source": [
    "## Ejercicio 2\n",
    "\n",
    "Un agricultor decide probar tres tipos diferentes de fertilizantes para determinar si alguno es superior en términos de producción de maíz. El agricultor planta maíz en 15 parcelas idénticas y utiliza los tres fertilizantes (5 parcelas para cada tipo). Al final de la temporada mide el rendimiento de maíz (en kg) de cada parcela, con el siguiente resultado:\n",
    "\n",
    "| Fertilizante 1 | Fertilizante 2 | Fertilizante 3 |\n",
    "|:-------------|:-------------|:-------------|\n",
    "| 20 | 22 | 24 |\n",
    "| 21 | 21 | 23 |\n",
    "| 20 | 23 | 22 |\n",
    "| 19 | 22 | 23 |\n",
    "| 20 | 21 | 24 |\n",
    "\n",
    "Con estos datos busca responder la siguiente pregunta: ¿Existe una diferencia significativa en el rendimiento promedio del maíz entre los tres tipos de fertilizantes?\n",
    "\n",
    "Para ayudarte, sigue los siguientes puntos:\n",
    "\n",
    "-Enunciar la hipótesis: hipótesis nula y alternativa.\n",
    "-Realizar la prueba ANOVA.\n",
    "-Analizar las conclusiones.\n",
    "-Si un fertilizante es mejor que otro, ¿cómo podemos saberlo?"
   ]
  },
  {
   "cell_type": "markdown",
   "id": "00de7008",
   "metadata": {},
   "source": [
    "### Enunciar la hipótesis: hipótesis nula y alternativa.\n",
    "\n",
    "H0= Los promedios de los rendimientos de los 3 fertilizantes son iguales, no hay diferencias significativas entre los fertilizantes.\n",
    "\n",
    "H1= Los promedios de los rendimientos de los 3 fertilizantes no son iguales, existen diferencias significativas."
   ]
  },
  {
   "cell_type": "code",
   "execution_count": 11,
   "id": "ae3b35c0",
   "metadata": {},
   "outputs": [
    {
     "name": "stdout",
     "output_type": "stream",
     "text": [
      "Estadístico F: 20.315789473684188\n",
      "Valor p: 0.00014047824793190472\n",
      "Rechazamos H₀: Al menos un fertilizante tiene un rendimiento significativamente diferente.\n"
     ]
    }
   ],
   "source": [
    "import numpy as np\n",
    "import scipy.stats as stats\n",
    "\n",
    "# Datos\n",
    "fertilizante_1 = [20, 21, 20, 19, 20]\n",
    "fertilizante_2 = [22, 21, 23, 22, 21]\n",
    "fertilizante_3 = [24, 23, 22, 23, 24]\n",
    "\n",
    "# Realizar la prueba ANOVA\n",
    "f_statistic, p_value = stats.f_oneway(fertilizante_1, fertilizante_2, fertilizante_3)\n",
    "\n",
    "# Mostrar resultados\n",
    "print(\"Estadístico F:\", f_statistic)\n",
    "print(\"Valor p:\", p_value)\n",
    "\n",
    "# Conclusiones\n",
    "if p_value < 0.05:\n",
    "    print(\"Rechazamos H₀: Al menos un fertilizante tiene un rendimiento significativamente diferente.\")\n",
    "else:\n",
    "    print(\"No rechazamos H₀: No hay diferencias significativas entre los fertilizantes.\")\n",
    "\n",
    "\n",
    "# Estadístico F: 20.315789473684188\n",
    "# Valor p: 0.00014047824793190472\n",
    "# Rechazamos H₀: Al menos un fertilizante tiene un rendimiento significativamente diferente."
   ]
  },
  {
   "cell_type": "code",
   "execution_count": 12,
   "id": "3078d175",
   "metadata": {},
   "outputs": [
    {
     "name": "stdout",
     "output_type": "stream",
     "text": [
      "Media Fertilizante 1: 20.0\n",
      "Media Fertilizante 2: 21.8\n",
      "Media Fertilizante 3: 23.2\n"
     ]
    }
   ],
   "source": [
    "# Calcular las medias\n",
    "media_fertil_1 = np.mean(fertilizante_1)\n",
    "media_fertil_2 = np.mean(fertilizante_2)\n",
    "media_fertil_3 = np.mean(fertilizante_3)\n",
    "\n",
    "\n",
    "# Mostrar las medias\n",
    "print(\"Media Fertilizante 1:\", media_fertil_1)\n",
    "print(\"Media Fertilizante 2:\", media_fertil_2)\n",
    "print(\"Media Fertilizante 3:\", media_fertil_3)\n",
    "\n",
    "# Media Fertilizante 1: 20.0\n",
    "# Media Fertilizante 2: 21.8\n",
    "# Media Fertilizante 3: 23.2"
   ]
  },
  {
   "cell_type": "code",
   "execution_count": 13,
   "id": "eecad0ca",
   "metadata": {},
   "outputs": [],
   "source": [
    "from statsmodels.stats.multicomp import pairwise_tukeyhsd"
   ]
  },
  {
   "cell_type": "code",
   "execution_count": 14,
   "id": "e1e3f34f",
   "metadata": {},
   "outputs": [
    {
     "name": "stdout",
     "output_type": "stream",
     "text": [
      "       Multiple Comparison of Means - Tukey HSD, FWER=0.05        \n",
      "==================================================================\n",
      "    group1         group2     meandiff p-adj  lower  upper  reject\n",
      "------------------------------------------------------------------\n",
      "Fertilizante 1 Fertilizante 2      1.8 0.0099 0.4572 3.1428   True\n",
      "Fertilizante 1 Fertilizante 3      3.2 0.0001 1.8572 4.5428   True\n",
      "Fertilizante 2 Fertilizante 3      1.4 0.0409 0.0572 2.7428   True\n",
      "------------------------------------------------------------------\n"
     ]
    }
   ],
   "source": [
    "# Crear un DataFrame con los datos\n",
    "rendimiento = fertilizante_1 + fertilizante_2 + fertilizante_3\n",
    "fertilizante = ['Fertilizante 1'] * len(fertilizante_1) + ['Fertilizante 2'] * len(fertilizante_2) + ['Fertilizante 3'] * len(fertilizante_3)\n",
    "\n",
    "df = pd.DataFrame({'Fertilzante': fertilizante, 'Rendimiento': rendimiento})\n",
    "\n",
    "# Realizar la prueba de Tukey HSD\n",
    "tukey_result = pairwise_tukeyhsd(df['Rendimiento'], df['Fertilzante'], alpha=0.05)\n",
    "\n",
    "# Mostrar los resultados\n",
    "print(tukey_result)\n",
    "\n",
    "\n",
    "#        Multiple Comparison of Means - Tukey HSD, FWER=0.05        \n",
    "# ==================================================================\n",
    "#     group1         group2     meandiff p-adj  lower  upper  reject\n",
    "# ------------------------------------------------------------------\n",
    "# Fertilizante 1 Fertilizante 2      1.8 0.0099 0.4572 3.1428   True\n",
    "# Fertilizante 1 Fertilizante 3      3.2 0.0001 1.8572 4.5428   True\n",
    "# Fertilizante 2 Fertilizante 3      1.4 0.0409 0.0572 2.7428   True"
   ]
  },
  {
   "cell_type": "markdown",
   "id": "99e9b4ec",
   "metadata": {},
   "source": [
    "Si el valor de p-adj es menor que 0.05, significa que hay una diferencia significativa entre los dos grupos de fertilizantes comparados."
   ]
  },
  {
   "cell_type": "markdown",
   "id": "7c60430f",
   "metadata": {},
   "source": [
    "La diferencia promedio entre el fertilizante 1 y 2 es de 1.8 kg, por tanto el fertilizante 2 es mejor\n",
    "que el fertilizante 1 por 1.8 kg\n",
    "\n",
    "\n",
    "La diferencia promedio entre el fertilizante 1 y 3 es de 3.2 kg, por tanto el fertilizante 3 es mejor que el 1 por 3.2 kg\n",
    "\n",
    "\n",
    "La diferencia promedio entre el fertilizante 2 y 3 es de 1.4 kg por tanto el fertilizante 3 es mejor que el 2 por 1.4 kg\n",
    "\n",
    "El fertilizante 1 es el mas malo y el fertilizante 3 es el mejor de todos\n",
    "\n",
    "\n",
    "\n",
    "\n",
    "\n",
    "\n",
    "El fertilizante 3 es el que mejor rendimiento promedio tiene tiene la mayor diferencia "
   ]
  },
  {
   "cell_type": "markdown",
   "id": "e989df90",
   "metadata": {},
   "source": [
    "Y según las pruebas de hipotesis planteadas:\n",
    "\n",
    "H0= Los promedios de los rendimientos de los 3 fertilizantes son iguales, no hay diferencias significativas entre los fertilizantes.\n",
    "\n",
    "H1= Los promedios de los rendimientos de los 3 fertilizantes no son iguales, existen diferencias significativas."
   ]
  },
  {
   "cell_type": "markdown",
   "id": "fd8b90b4",
   "metadata": {},
   "source": [
    "Se rechaza la hipotesis nula (H0) ya    que el valor p-valor del test de anova es <0.05 y se acepta la hipotesis alternativa"
   ]
  }
 ],
 "metadata": {
  "kernelspec": {
   "display_name": "Python 3",
   "language": "python",
   "name": "python3"
  },
  "language_info": {
   "codemirror_mode": {
    "name": "ipython",
    "version": 3
   },
   "file_extension": ".py",
   "mimetype": "text/x-python",
   "name": "python",
   "nbconvert_exporter": "python",
   "pygments_lexer": "ipython3",
   "version": "3.11.4"
  }
 },
 "nbformat": 4,
 "nbformat_minor": 5
}
